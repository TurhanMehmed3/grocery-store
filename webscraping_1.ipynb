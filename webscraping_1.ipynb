{
 "cells": [
  {
   "cell_type": "code",
   "execution_count": 1,
   "metadata": {},
   "outputs": [],
   "source": [
    "import requests\n",
    "import pandas as pd"
   ]
  },
  {
   "cell_type": "code",
   "execution_count": 46,
   "metadata": {},
   "outputs": [],
   "source": [
    "# Information We Want\n",
    "street = []\n",
    "location = []\n",
    "postcode = []\n",
    "country = []\n",
    "storeid = []\n",
    "openingdate = []\n",
    "x_coordinate = []\n",
    "y_coordinate = []\n",
    "\n",
    "# Function which return a value or null dependening on the availability of keys in the API Response\n",
    "def safe_get(dataset, keys, default=\"N/A\"):\n",
    "    try:\n",
    "        for key in keys:\n",
    "            dataset = dataset[key]\n",
    "        return dataset\n",
    "    except (KeyError, TypeError):\n",
    "        return default\n",
    "\n",
    "# Collection total number of stores and other information from API response. (Limit assumed to be 20)\n",
    "URL = 'https://prod-cdn.us.yextapis.com/v2/accounts/me/search/vertical/query?experienceKey=waitrose-locator-search&api_key=b89aa54de5943d5158a4d0b4062fe8d1&v=20220511&version=PRODUCTION&locale=en-GB&input=&verticalKey=locations&filters=%7B%22builtin.location%22%3A%7B%22%24near%22%3A%7B%22lat%22%3A51.230223%2C%22lng%22%3A-3.835141%2C%22radius%22%3A1000000%7D%7D%7D&offset=0&retrieveFacets=true&skipSpellCheck=false&sessionTrackingEnabled=false&sortBys=%5B%5D&source=STANDARD'\n",
    "r = requests.get(url = URL)\n",
    "data = r.json()\n",
    "limit = 20\n",
    "remainder = data['response']['resultsCount'] % limit\n",
    "totalstores = data['response']['resultsCount']\n",
    "\n",
    "# Function which extracts all information from API response\n",
    "for i in range(0, totalstores + limit - remainder, limit):\n",
    "    URL = f'https://prod-cdn.us.yextapis.com/v2/accounts/me/search/vertical/query?experienceKey=waitrose-locator-search&api_key=b89aa54de5943d5158a4d0b4062fe8d1&v=20220511&version=PRODUCTION&locale=en-GB&input=&verticalKey=locations&filters=%7B%22builtin.location%22%3A%7B%22%24near%22%3A%7B%22lat%22%3A51.230223%2C%22lng%22%3A-3.835141%2C%22radius%22%3A1000000%7D%7D%7D&offset={i}&retrieveFacets=true&skipSpellCheck=false&sessionTrackingEnabled=false&sortBys=%5B%5D&source=STANDARD'\n",
    "    r = requests.get(url = URL)\n",
    "    data = r.json()\n",
    "\n",
    "    if i != (totalstores - remainder):\n",
    "        for j in range(0, limit):\n",
    "            street.append(safe_get(data, ['response', 'results', j, 'data', 'address', 'line1']))\n",
    "            location.append(safe_get(data, ['response', 'results', j, 'data', 'address', 'city']))\n",
    "            postcode.append(safe_get(data, ['response', 'results', j, 'data', 'address', 'postalCode']))\n",
    "            country.append(safe_get(data, ['response', 'results', j, 'data', 'address', 'countryCode']))\n",
    "            storeid.append(safe_get(data, ['response', 'results', j, 'data', 'id']))\n",
    "            openingdate.append(safe_get(data, ['response', 'results', j, 'data', 'yearEstablished']))\n",
    "            x_coordinate.append(safe_get(data, ['response', 'results', j, 'data', 'cityCoordinate','longitude']))\n",
    "            y_coordinate.append(safe_get(data, ['response', 'results', j, 'data', 'cityCoordinate','latitude']))\n",
    "\n",
    "    elif i == (totalstores - remainder):\n",
    "        for j in range(0, remainder):\n",
    "            street.append(safe_get(data, ['response', 'results', j, 'data', 'address', 'line1']))\n",
    "            location.append(safe_get(data, ['response', 'results', j, 'data', 'address', 'city']))\n",
    "            postcode.append(safe_get(data, ['response', 'results', j, 'data', 'address', 'postalCode']))\n",
    "            country.append(safe_get(data, ['response', 'results', j, 'data', 'address', 'countryCode']))\n",
    "            storeid.append(safe_get(data, ['response', 'results', j, 'data', 'id']))\n",
    "            openingdate.append(safe_get(data, ['response', 'results', j, 'data', 'yearEstablished']))\n",
    "            x_coordinate.append(safe_get(data, ['response', 'results', j, 'data', 'cityCoordinate','longitude']))\n",
    "            y_coordinate.append(safe_get(data, ['response', 'results', j, 'data', 'cityCoordinate','latitude']))\n",
    "\n"
   ]
  },
  {
   "cell_type": "code",
   "execution_count": 47,
   "metadata": {},
   "outputs": [],
   "source": [
    "waitrose = pd.DataFrame({'street': street, 'location': location,'postcode': postcode,'country': country,'storeid': storeid,'openingdate':openingdate, 'longitude':x_coordinate, 'latitude':y_coordinate})"
   ]
  },
  {
   "cell_type": "code",
   "execution_count": 50,
   "metadata": {},
   "outputs": [
    {
     "data": {
      "text/plain": [
       "latitude\n",
       "N/A                   41\n",
       "51.506420135498       41\n",
       "51.50642013549805     19\n",
       "51.500152587890625     7\n",
       "51.4535217285156       4\n",
       "                      ..\n",
       "53.2245903015137       1\n",
       "51.3961563110352       1\n",
       "51.47531509            1\n",
       "51.18090057373047      1\n",
       "56.1173400878906       1\n",
       "Name: count, Length: 288, dtype: int64"
      ]
     },
     "execution_count": 50,
     "metadata": {},
     "output_type": "execute_result"
    }
   ],
   "source": [
    "waitrose['latitude'].value_counts()"
   ]
  },
  {
   "cell_type": "code",
   "execution_count": 51,
   "metadata": {},
   "outputs": [],
   "source": [
    "waitrose.to_csv(\"./Outputs/Waitrose_1.csv\")"
   ]
  }
 ],
 "metadata": {
  "kernelspec": {
   "display_name": "1_Data_Engineer",
   "language": "python",
   "name": "python3"
  },
  "language_info": {
   "codemirror_mode": {
    "name": "ipython",
    "version": 3
   },
   "file_extension": ".py",
   "mimetype": "text/x-python",
   "name": "python",
   "nbconvert_exporter": "python",
   "pygments_lexer": "ipython3",
   "version": "3.8.5"
  }
 },
 "nbformat": 4,
 "nbformat_minor": 2
}
